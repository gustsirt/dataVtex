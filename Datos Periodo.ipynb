{
 "cells": [
  {
   "cell_type": "markdown",
   "metadata": {},
   "source": [
    "### Configuración inicial"
   ]
  },
  {
   "cell_type": "code",
   "execution_count": 2,
   "metadata": {},
   "outputs": [],
   "source": [
    "# Librerias y Variables de enter\n",
    "\n",
    "# import sys\n",
    "# sys.path.append(r\"C:\\Users\\Usuario\\AppData\\Local\\Programs\\Python\\Python312\\Lib\\site-packages\")\n",
    "import requests # peticiones HTML\n",
    "import pandas as pd # manejo de datos\n",
    "import matplotlib.pyplot as plt # graficacion\n",
    "import pytz\n",
    "from datetime import datetime, timedelta\n",
    "\n",
    "# Variables de entorno\n",
    "import os\n",
    "from dotenv import load_dotenv\n",
    "\n",
    "# Cargar las variables desde el archivo .env\n",
    "load_dotenv()\n",
    "\n",
    "# Obtener las variables desde el entorno\n",
    "account_name = os.getenv(\"VTEX_ACCOUNT_NAME\")\n",
    "app_key = os.getenv(\"VTEX_APP_KEY\")\n",
    "app_token = os.getenv(\"VTEX_APP_TOKEN\")\n",
    "\n",
    "# Validar que las variables se cargaron correctamente\n",
    "if not all([account_name, app_key, app_token]):\n",
    "    raise ValueError(\"Faltan credenciales en el archivo .env\")"
   ]
  },
  {
   "cell_type": "code",
   "execution_count": 3,
   "metadata": {},
   "outputs": [],
   "source": [
    "# Configuración de la URL API y headers\n",
    "base_url = f\"https://{account_name}.vtexcommercestable.com.br/api/oms/pvt/orders\"\n",
    "headers = {\n",
    "    \"X-VTEX-API-AppKey\": app_key,\n",
    "    \"X-VTEX-API-AppToken\": app_token,\n",
    "    \"Content-Type\": \"application/json\",\n",
    "}"
   ]
  },
  {
   "cell_type": "markdown",
   "metadata": {},
   "source": [
    "### Llamadas API"
   ]
  },
  {
   "cell_type": "code",
   "execution_count": 11,
   "metadata": {},
   "outputs": [],
   "source": [
    "# Función para convertir fechas en formato DD/MM/YYYY al formato requerido por VTEX\n",
    "def convert_to_vtex_datetime(date):\n",
    "  if isinstance(date, str):  # Convertir string a datetime si es necesario\n",
    "      local_time = datetime.strptime(date, \"%d/%m/%Y\")\n",
    "  else:\n",
    "      local_time = date  # Si ya es datetime, usarlo directamente\n",
    "\n",
    "  start_utc = local_time + timedelta(hours=3)  # Convertir a UTC (sumar 3 horas)\n",
    "  start_str = start_utc.strftime(\"%Y-%m-%dT%H:%M:%S.000Z\")\n",
    "  end_utc = start_utc + timedelta(hours=23, minutes=59, seconds=59, milliseconds=999)\n",
    "  end_str = end_utc.strftime(\"%Y-%m-%dT%H:%M:%S.999Z\")\n",
    "  return start_str, end_str"
   ]
  },
  {
   "cell_type": "code",
   "execution_count": 16,
   "metadata": {},
   "outputs": [],
   "source": [
    "# Función llamada a la API para obtener pedidos de un día\n",
    "def get_orders_for_day(date):\n",
    "  # Convertir la fecha al formato VTEX\n",
    "  start_date, end_date = convert_to_vtex_datetime(date)\n",
    "\n",
    "  # Parámetros para filtrar órdenes\n",
    "  params = {\n",
    "    'orderBy': 'sequence',\n",
    "    'f_creationDate': f'creationDate:[{start_date} TO {end_date}]',  # Filtro de fecha\n",
    "    \"page\": 1,  # de 1 a 30\n",
    "    \"per_page\": 100,  # de 1 a 100\n",
    "  }\n",
    "\n",
    "  orders = []\n",
    "  page = 1\n",
    "  while True:\n",
    "    params['page'] = page\n",
    "    response = requests.get(base_url, headers=headers, params=params)\n",
    "\n",
    "    # Verificar si la respuesta es válida\n",
    "    try:\n",
    "      data = response.json()\n",
    "    except ValueError as e:\n",
    "      print(f\"Error al procesar la respuesta JSON: {response.text}\")\n",
    "      break\n",
    "\n",
    "    # Asegurarse de que \"list\" exista en la respuesta\n",
    "    if \"list\" not in data:\n",
    "      print(f\"Error: 'list' no encontrado en la respuesta: {data}\")\n",
    "      break\n",
    "\n",
    "    orders_list = data[\"list\"]\n",
    "    if not orders_list:\n",
    "      break\n",
    "\n",
    "    for order in orders_list:\n",
    "      order_data = {\n",
    "        'sequence': order.get('sequence', ''),\n",
    "        'creationDate': order.get('creationDate', ''),\n",
    "        'totalItems': order.get('totalItems', 0),\n",
    "        'totalValue': order.get('value', 0),\n",
    "        'paymentNames': ', '.join([payment.get('paymentSystem', '') for payment in order.get('payments', [])]),\n",
    "        'statusDescription': order.get('statusDescription', ''),\n",
    "        'hostname': order.get('hostname', ''),\n",
    "        'origin': order.get('origin', '')\n",
    "      }\n",
    "      orders.append(order_data)\n",
    "\n",
    "    page += 1\n",
    "\n",
    "  return orders"
   ]
  },
  {
   "cell_type": "code",
   "execution_count": 14,
   "metadata": {},
   "outputs": [],
   "source": [
    "# Función para iterar por días en un rango y obtener todos los pedidos\n",
    "def get_orders_by_date_range(start_date_input, end_date_input):\n",
    "  start_date = datetime.strptime(start_date_input, \"%d/%m/%Y\")\n",
    "  end_date = datetime.strptime(end_date_input, \"%d/%m/%Y\")\n",
    "\n",
    "  all_orders = []\n",
    "\n",
    "  current_date = start_date\n",
    "  while current_date <= end_date:\n",
    "      print(f\"Obteniendo pedidos para el día: {current_date.strftime('%d/%m/%Y')}\")\n",
    "      daily_orders = get_orders_for_day(current_date)\n",
    "      all_orders.extend(daily_orders)\n",
    "      current_date += timedelta(days=1)\n",
    "\n",
    "  return all_orders"
   ]
  },
  {
   "cell_type": "code",
   "execution_count": 17,
   "metadata": {},
   "outputs": [
    {
     "name": "stdout",
     "output_type": "stream",
     "text": [
      "Obteniendo pedidos para el día: 30/12/2024\n"
     ]
    },
    {
     "ename": "NameError",
     "evalue": "name 'date_str' is not defined",
     "output_type": "error",
     "traceback": [
      "\u001b[1;31m---------------------------------------------------------------------------\u001b[0m",
      "\u001b[1;31mNameError\u001b[0m                                 Traceback (most recent call last)",
      "Cell \u001b[1;32mIn[17], line 8\u001b[0m\n\u001b[0;32m      5\u001b[0m fecha_fin \u001b[38;5;241m=\u001b[39m \u001b[38;5;124m\"\u001b[39m\u001b[38;5;124m31/12/2024\u001b[39m\u001b[38;5;124m\"\u001b[39m\n\u001b[0;32m      7\u001b[0m \u001b[38;5;66;03m# Obtener los pedidos\u001b[39;00m\n\u001b[1;32m----> 8\u001b[0m orders \u001b[38;5;241m=\u001b[39m \u001b[43mget_orders_by_date_range\u001b[49m\u001b[43m(\u001b[49m\u001b[43mfecha_inicio\u001b[49m\u001b[43m,\u001b[49m\u001b[43m \u001b[49m\u001b[43mfecha_fin\u001b[49m\u001b[43m)\u001b[49m\n\u001b[0;32m     10\u001b[0m \u001b[38;5;66;03m# Convertir los pedidos a un DataFrame de pandas\u001b[39;00m\n\u001b[0;32m     11\u001b[0m df_orders \u001b[38;5;241m=\u001b[39m pd\u001b[38;5;241m.\u001b[39mDataFrame(orders)\n",
      "Cell \u001b[1;32mIn[14], line 11\u001b[0m, in \u001b[0;36mget_orders_by_date_range\u001b[1;34m(start_date_input, end_date_input)\u001b[0m\n\u001b[0;32m      9\u001b[0m \u001b[38;5;28;01mwhile\u001b[39;00m current_date \u001b[38;5;241m<\u001b[39m\u001b[38;5;241m=\u001b[39m end_date:\n\u001b[0;32m     10\u001b[0m     \u001b[38;5;28mprint\u001b[39m(\u001b[38;5;124mf\u001b[39m\u001b[38;5;124m\"\u001b[39m\u001b[38;5;124mObteniendo pedidos para el día: \u001b[39m\u001b[38;5;132;01m{\u001b[39;00mcurrent_date\u001b[38;5;241m.\u001b[39mstrftime(\u001b[38;5;124m'\u001b[39m\u001b[38;5;132;01m%d\u001b[39;00m\u001b[38;5;124m/\u001b[39m\u001b[38;5;124m%\u001b[39m\u001b[38;5;124mm/\u001b[39m\u001b[38;5;124m%\u001b[39m\u001b[38;5;124mY\u001b[39m\u001b[38;5;124m'\u001b[39m)\u001b[38;5;132;01m}\u001b[39;00m\u001b[38;5;124m\"\u001b[39m)\n\u001b[1;32m---> 11\u001b[0m     daily_orders \u001b[38;5;241m=\u001b[39m \u001b[43mget_orders_for_day\u001b[49m\u001b[43m(\u001b[49m\u001b[43mcurrent_date\u001b[49m\u001b[43m)\u001b[49m\n\u001b[0;32m     12\u001b[0m     all_orders\u001b[38;5;241m.\u001b[39mextend(daily_orders)\n\u001b[0;32m     13\u001b[0m     current_date \u001b[38;5;241m+\u001b[39m\u001b[38;5;241m=\u001b[39m timedelta(days\u001b[38;5;241m=\u001b[39m\u001b[38;5;241m1\u001b[39m)\n",
      "Cell \u001b[1;32mIn[16], line 4\u001b[0m, in \u001b[0;36mget_orders_for_day\u001b[1;34m(date)\u001b[0m\n\u001b[0;32m      2\u001b[0m \u001b[38;5;28;01mdef\u001b[39;00m \u001b[38;5;21mget_orders_for_day\u001b[39m(date):\n\u001b[0;32m      3\u001b[0m     \u001b[38;5;66;03m# Convertir la fecha al formato VTEX\u001b[39;00m\n\u001b[1;32m----> 4\u001b[0m     start_date, end_date \u001b[38;5;241m=\u001b[39m \u001b[43mconvert_to_vtex_datetime\u001b[49m\u001b[43m(\u001b[49m\u001b[43mdate\u001b[49m\u001b[43m)\u001b[49m\n\u001b[0;32m      6\u001b[0m     \u001b[38;5;66;03m# Parámetros para filtrar órdenes\u001b[39;00m\n\u001b[0;32m      7\u001b[0m     params \u001b[38;5;241m=\u001b[39m {\n\u001b[0;32m      8\u001b[0m         \u001b[38;5;124m'\u001b[39m\u001b[38;5;124morderBy\u001b[39m\u001b[38;5;124m'\u001b[39m: \u001b[38;5;124m'\u001b[39m\u001b[38;5;124msequence\u001b[39m\u001b[38;5;124m'\u001b[39m,\n\u001b[0;32m      9\u001b[0m         \u001b[38;5;124m'\u001b[39m\u001b[38;5;124mf_creationDate\u001b[39m\u001b[38;5;124m'\u001b[39m: \u001b[38;5;124mf\u001b[39m\u001b[38;5;124m'\u001b[39m\u001b[38;5;124mcreationDate:[\u001b[39m\u001b[38;5;132;01m{\u001b[39;00mstart_date\u001b[38;5;132;01m}\u001b[39;00m\u001b[38;5;124m TO \u001b[39m\u001b[38;5;132;01m{\u001b[39;00mend_date\u001b[38;5;132;01m}\u001b[39;00m\u001b[38;5;124m]\u001b[39m\u001b[38;5;124m'\u001b[39m,  \u001b[38;5;66;03m# Filtro de fecha\u001b[39;00m\n\u001b[0;32m     10\u001b[0m         \u001b[38;5;124m\"\u001b[39m\u001b[38;5;124mpage\u001b[39m\u001b[38;5;124m\"\u001b[39m: \u001b[38;5;241m1\u001b[39m,  \u001b[38;5;66;03m# de 1 a 30\u001b[39;00m\n\u001b[0;32m     11\u001b[0m         \u001b[38;5;124m\"\u001b[39m\u001b[38;5;124mper_page\u001b[39m\u001b[38;5;124m\"\u001b[39m: \u001b[38;5;241m100\u001b[39m,  \u001b[38;5;66;03m# de 1 a 100\u001b[39;00m\n\u001b[0;32m     12\u001b[0m     }\n",
      "Cell \u001b[1;32mIn[11], line 8\u001b[0m, in \u001b[0;36mconvert_to_vtex_datetime\u001b[1;34m(date)\u001b[0m\n\u001b[0;32m      5\u001b[0m \u001b[38;5;28;01melse\u001b[39;00m:\n\u001b[0;32m      6\u001b[0m     local_time \u001b[38;5;241m=\u001b[39m date  \u001b[38;5;66;03m# Si ya es datetime, usarlo directamente\u001b[39;00m\n\u001b[1;32m----> 8\u001b[0m local_time \u001b[38;5;241m=\u001b[39m datetime\u001b[38;5;241m.\u001b[39mstrptime(\u001b[43mdate_str\u001b[49m, \u001b[38;5;124m\"\u001b[39m\u001b[38;5;132;01m%d\u001b[39;00m\u001b[38;5;124m/\u001b[39m\u001b[38;5;124m%\u001b[39m\u001b[38;5;124mm/\u001b[39m\u001b[38;5;124m%\u001b[39m\u001b[38;5;124mY\u001b[39m\u001b[38;5;124m\"\u001b[39m)\n\u001b[0;32m      9\u001b[0m start_utc \u001b[38;5;241m=\u001b[39m local_time \u001b[38;5;241m+\u001b[39m timedelta(hours\u001b[38;5;241m=\u001b[39m\u001b[38;5;241m3\u001b[39m)  \u001b[38;5;66;03m# Convertir a UTC (sumar 3 horas)\u001b[39;00m\n\u001b[0;32m     10\u001b[0m start_str \u001b[38;5;241m=\u001b[39m start_utc\u001b[38;5;241m.\u001b[39mstrftime(\u001b[38;5;124m\"\u001b[39m\u001b[38;5;124m%\u001b[39m\u001b[38;5;124mY-\u001b[39m\u001b[38;5;124m%\u001b[39m\u001b[38;5;124mm-\u001b[39m\u001b[38;5;132;01m%d\u001b[39;00m\u001b[38;5;124mT\u001b[39m\u001b[38;5;124m%\u001b[39m\u001b[38;5;124mH:\u001b[39m\u001b[38;5;124m%\u001b[39m\u001b[38;5;124mM:\u001b[39m\u001b[38;5;124m%\u001b[39m\u001b[38;5;124mS.000Z\u001b[39m\u001b[38;5;124m\"\u001b[39m)\n",
      "\u001b[1;31mNameError\u001b[0m: name 'date_str' is not defined"
     ]
    }
   ],
   "source": [
    "# Obtener los pedidos de 1 PERIODO\n",
    "\n",
    "# Fechas para filtrar (en formato DD/MM/YYYY)\n",
    "fecha_inicio = \"30/12/2024\"\n",
    "fecha_fin = \"31/12/2024\"\n",
    "\n",
    "# Obtener los pedidos\n",
    "orders = get_orders_by_date_range(fecha_inicio, fecha_fin)\n",
    "\n",
    "# Convertir los pedidos a un DataFrame de pandas\n",
    "df_orders = pd.DataFrame(orders)\n",
    "\n",
    "# Guardar el DataFrame a un archivo CSV\n",
    "df_orders.to_csv('pedidos_2024.csv', index=False)\n",
    "\n",
    "print(\"Datos de pedidos guardados en 'pedidos_2024.csv'\")"
   ]
  }
 ],
 "metadata": {
  "kernelspec": {
   "display_name": "Python 3",
   "language": "python",
   "name": "python3"
  },
  "language_info": {
   "codemirror_mode": {
    "name": "ipython",
    "version": 3
   },
   "file_extension": ".py",
   "mimetype": "text/x-python",
   "name": "python",
   "nbconvert_exporter": "python",
   "pygments_lexer": "ipython3",
   "version": "3.12.4"
  }
 },
 "nbformat": 4,
 "nbformat_minor": 2
}
