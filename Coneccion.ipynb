{
 "cells": [
  {
   "cell_type": "markdown",
   "metadata": {},
   "source": [
    "### Configuración inicial"
   ]
  },
  {
   "cell_type": "code",
   "execution_count": 41,
   "metadata": {},
   "outputs": [],
   "source": [
    "# Librerias y Variables de enter\n",
    "\n",
    "# import sys\n",
    "# sys.path.append(r\"C:\\Users\\Usuario\\AppData\\Local\\Programs\\Python\\Python312\\Lib\\site-packages\")\n",
    "import requests # peticiones HTML\n",
    "import pandas as pd # manejo de datos\n",
    "import matplotlib.pyplot as plt # graficacion\n",
    "import pytz\n",
    "from datetime import datetime, timedelta\n",
    "\n",
    "# Variables de entorno\n",
    "import os\n",
    "from dotenv import load_dotenv\n",
    "\n",
    "# Cargar las variables desde el archivo .env\n",
    "load_dotenv()\n",
    "\n",
    "# Obtener las variables desde el entorno\n",
    "account_name = os.getenv(\"VTEX_ACCOUNT_NAME\")\n",
    "app_key = os.getenv(\"VTEX_APP_KEY\")\n",
    "app_token = os.getenv(\"VTEX_APP_TOKEN\")\n",
    "\n",
    "# Validar que las variables se cargaron correctamente\n",
    "if not all([account_name, app_key, app_token]):\n",
    "    raise ValueError(\"Faltan credenciales en el archivo .env\")"
   ]
  },
  {
   "cell_type": "code",
   "execution_count": 24,
   "metadata": {},
   "outputs": [],
   "source": [
    "# Configuración de la URL API y headers\n",
    "base_url = f\"https://{account_name}.vtexcommercestable.com.br/api/oms/pvt/orders\"\n",
    "headers = {\n",
    "    \"X-VTEX-API-AppKey\": app_key,\n",
    "    \"X-VTEX-API-AppToken\": app_token,\n",
    "    \"Content-Type\": \"application/json\",\n",
    "}"
   ]
  },
  {
   "cell_type": "markdown",
   "metadata": {},
   "source": [
    "### Llamadas API"
   ]
  },
  {
   "cell_type": "code",
   "execution_count": 53,
   "metadata": {},
   "outputs": [],
   "source": [
    "# Función para convertir fechas en formato DD/MM/YYYY al formato requerido por VTEX\n",
    "def convert_to_vtex_datetime(date_str):\n",
    "    local_time = datetime.strptime(date_str, \"%d/%m/%Y\")\n",
    "    start_utc = local_time + timedelta(hours=3)  # Convertir a UTC (sumar 3 horas)\n",
    "    start_str = start_utc.strftime(\"%Y-%m-%dT%H:%M:%S.000Z\")\n",
    "    end_utc = start_utc + timedelta(hours=23, minutes=59, seconds=59, milliseconds=999)\n",
    "    end_str = end_utc.strftime(\"%Y-%m-%dT%H:%M:%S.999Z\")\n",
    "    return start_str, end_str"
   ]
  },
  {
   "cell_type": "code",
   "execution_count": null,
   "metadata": {},
   "outputs": [],
   "source": [
    "# Función llamada a la API\n",
    "def get_orders(start_date_input):\n",
    "  \n",
    "  # Fecha para filtrar, usando el formato exacto que muestra el ejemplo de VTEX\n",
    "  # start_date = \"2024-12-30T00:03:00.000Z\" #(sumar 3 horas())\n",
    "  # end_date = \"2024-12-31T02:59:59.999Z\"\n",
    "\n",
    "  start_date, end_date = convert_to_vtex_datetime(start_date_input)\n",
    "\n",
    "# Parámetros para filtrar órdenes - Se puede obtener de VTEX, compartiendo filtros\n",
    "  params = {\n",
    "    'orderBy': 'sequence',\n",
    "      'f_creationDate': f'creationDate:[{start_date} TO {end_date}]',  # Filtro de fecha\n",
    "      \"page\": 1, # de 1 a 30\n",
    "      \"per_page\": 100, # de 1 a 100\n",
    "  }\n",
    "  \n",
    "  orders = []\n",
    "    \n",
    "  page = 1\n",
    "  while True:    \n",
    "    params['page'] = page\n",
    "    response = requests.get(base_url, headers=headers, params=params)\n",
    "    \n",
    "    # Verificar si la respuesta es válida\n",
    "    try:\n",
    "      data = response.json()\n",
    "    except ValueError as e:\n",
    "      print(f\"Error al procesar la respuesta JSON: {response.text}\")\n",
    "      break\n",
    "\n",
    "    # Asegurarse de que \"list\" exista en la respuesta\n",
    "    if \"list\" not in data:\n",
    "      print(f\"Error: 'list' no encontrado en la respuesta: {data}\")\n",
    "      break\n",
    "    \n",
    "    orders_list = data[\"list\"]\n",
    "    \n",
    "    if not orders_list:\n",
    "      break\n",
    "    \n",
    "    for order in orders_list:\n",
    "      order_data = {\n",
    "        'sequence': order.get('sequence', ''),\n",
    "        'creationDate': order.get('creationDate', ''),\n",
    "        'totalItems': order.get('totalItems', 0),\n",
    "        'totalValue': order.get('value', 0),\n",
    "        'paymentNames': ', '.join([payment.get('paymentSystem', '') for payment in order.get('payments', [])]),\n",
    "        'statusDescription': order.get('statusDescription', ''),\n",
    "        'hostname': order.get('hostname', ''),\n",
    "        'origin': order.get('origin', '')\n",
    "      }\n",
    "      orders.append(order_data)\n",
    "    \n",
    "    if not data:\n",
    "      break\n",
    "          \n",
    "    page += 1\n",
    "  return orders"
   ]
  },
  {
   "cell_type": "code",
   "execution_count": 50,
   "metadata": {},
   "outputs": [
    {
     "name": "stdout",
     "output_type": "stream",
     "text": [
      "Datos de pedidos guardados en 'pedidos_2024.csv'\n"
     ]
    }
   ],
   "source": [
    "# Obtener los pedidos\n",
    "\n",
    "# Fecha para filtrar (en formato DD/MM/YYYY)\n",
    "fecha_inicio = \"30/12/2024\"\n",
    "fecha_fin = \"30/12/2024\"\n",
    "\n",
    "# Obtener los pedidos\n",
    "orders = get_orders(fecha_inicio)\n",
    "\n",
    "# Convertir los pedidos a un DataFrame de pandas\n",
    "df_orders = pd.DataFrame(orders)\n",
    "\n",
    "# Guardar el DataFrame a un archivo CSV\n",
    "df_orders.to_csv('pedidos_2024.csv', index=False)\n",
    "\n",
    "print(\"Datos de pedidos guardados en 'pedidos_2024.csv'\")"
   ]
  }
 ],
 "metadata": {
  "kernelspec": {
   "display_name": "Python 3",
   "language": "python",
   "name": "python3"
  },
  "language_info": {
   "codemirror_mode": {
    "name": "ipython",
    "version": 3
   },
   "file_extension": ".py",
   "mimetype": "text/x-python",
   "name": "python",
   "nbconvert_exporter": "python",
   "pygments_lexer": "ipython3",
   "version": "3.12.4"
  }
 },
 "nbformat": 4,
 "nbformat_minor": 2
}
