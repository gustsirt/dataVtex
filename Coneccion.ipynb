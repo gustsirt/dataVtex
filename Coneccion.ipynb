{
 "cells": [
  {
   "cell_type": "markdown",
   "metadata": {},
   "source": [
    "# Conexion"
   ]
  },
  {
   "cell_type": "code",
   "execution_count": 63,
   "metadata": {},
   "outputs": [],
   "source": [
    "# Variables de entorno\n",
    "import os\n",
    "from dotenv import load_dotenv\n",
    "\n",
    "# Cargar las variables desde el archivo .env\n",
    "load_dotenv()\n",
    "\n",
    "# Obtener las variables desde el entorno\n",
    "account_name = os.getenv(\"VTEX_ACCOUNT_NAME\")\n",
    "app_key = os.getenv(\"VTEX_APP_KEY\")\n",
    "app_token = os.getenv(\"VTEX_APP_TOKEN\")\n",
    "\n",
    "# Validar que las variables se cargaron correctamente\n",
    "if not all([account_name, app_key, app_token]):\n",
    "    raise ValueError(\"Faltan credenciales en el archivo .env\")"
   ]
  },
  {
   "cell_type": "code",
   "execution_count": 64,
   "metadata": {},
   "outputs": [],
   "source": [
    "# import sys\n",
    "# sys.path.append(r\"C:\\Users\\Usuario\\AppData\\Local\\Programs\\Python\\Python312\\Lib\\site-packages\")\n",
    "import requests # peticiones HTML\n",
    "import pandas as pd # manejo de datos\n",
    "import matplotlib.pyplot as plt # graficacion"
   ]
  },
  {
   "cell_type": "code",
   "execution_count": 65,
   "metadata": {},
   "outputs": [],
   "source": [
    "# Configuración de la URL y headers\n",
    "base_url = f\"https://{account_name}.vtexcommercestable.com.br/api/oms/pvt/orders\"\n",
    "headers = {\n",
    "    \"X-VTEX-API-AppKey\": app_key,\n",
    "    \"X-VTEX-API-AppToken\": app_token,\n",
    "    \"Content-Type\": \"application/json\",\n",
    "}"
   ]
  },
  {
   "cell_type": "code",
   "execution_count": 71,
   "metadata": {},
   "outputs": [
    {
     "data": {
      "text/plain": [
       "<Response [200]>"
      ]
     },
     "execution_count": 71,
     "metadata": {},
     "output_type": "execute_result"
    }
   ],
   "source": [
    "# Parámetros para filtrar órdenes - Se puede obtener de VTEX, compartiendo filtros\n",
    "params = {\n",
    "    \"date\":\n",
    "      {\n",
    "        # \"f_creationDate\": \"custom:[2023-12-31T03:00:00.000Z TO 2024-12-31T02:59:59.999Z]\"\n",
    "        \"f_creationDate\": \"current-year\"\n",
    "      },\n",
    "    \"page\": 1, # de 1 a 30\n",
    "    \"per_page\": 1000, # de 1 a 100\n",
    "}\n",
    "\n",
    "response = requests.get(base_url, headers=headers, params=params)\n",
    "\n",
    "response"
   ]
  },
  {
   "cell_type": "code",
   "execution_count": 67,
   "metadata": {},
   "outputs": [],
   "source": [
    "# PARA IMPRIMIR TXT RESULTADO\n",
    "# ordersTxt = response.json()\n",
    "\n",
    "# Guardar la respuesta en un archivo .txt\n",
    "# with open(\"respuesta_ordenes.txt\", \"w\") as file:\n",
    "#    file.write(str(ordersTxt))  # Convertir el diccionario a una cadena de texto\n",
    "\n",
    "# Este código guardará la respuesta en un archivo llamado \"respuesta_ordenes.txt\""
   ]
  },
  {
   "cell_type": "code",
   "execution_count": 68,
   "metadata": {},
   "outputs": [
    {
     "data": {
      "text/html": [
       "<div>\n",
       "<style scoped>\n",
       "    .dataframe tbody tr th:only-of-type {\n",
       "        vertical-align: middle;\n",
       "    }\n",
       "\n",
       "    .dataframe tbody tr th {\n",
       "        vertical-align: top;\n",
       "    }\n",
       "\n",
       "    .dataframe thead th {\n",
       "        text-align: right;\n",
       "    }\n",
       "</style>\n",
       "<table border=\"1\" class=\"dataframe\">\n",
       "  <thead>\n",
       "    <tr style=\"text-align: right;\">\n",
       "      <th></th>\n",
       "      <th>sequence</th>\n",
       "      <th>creationDate</th>\n",
       "      <th>totalItems</th>\n",
       "      <th>totalValue</th>\n",
       "      <th>paymentNames</th>\n",
       "      <th>status</th>\n",
       "      <th>hostname</th>\n",
       "      <th>origin</th>\n",
       "    </tr>\n",
       "  </thead>\n",
       "  <tbody>\n",
       "    <tr>\n",
       "      <th>0</th>\n",
       "      <td>2216701</td>\n",
       "      <td>2024-12-30 16:44:25</td>\n",
       "      <td>1</td>\n",
       "      <td>22409.1</td>\n",
       "      <td>Visa Electron</td>\n",
       "      <td>window-to-cancel</td>\n",
       "      <td>newsport</td>\n",
       "      <td>Marketplace</td>\n",
       "    </tr>\n",
       "    <tr>\n",
       "      <th>1</th>\n",
       "      <td>2216699</td>\n",
       "      <td>2024-12-30 16:42:18</td>\n",
       "      <td>1</td>\n",
       "      <td>95499.0</td>\n",
       "      <td>GOcuotas</td>\n",
       "      <td>window-to-cancel</td>\n",
       "      <td>cero26</td>\n",
       "      <td>Marketplace</td>\n",
       "    </tr>\n",
       "    <tr>\n",
       "      <th>2</th>\n",
       "      <td>2216697</td>\n",
       "      <td>2024-12-30 16:39:32</td>\n",
       "      <td>1</td>\n",
       "      <td>124999.0</td>\n",
       "      <td>MercadoPagoPro</td>\n",
       "      <td>window-to-cancel</td>\n",
       "      <td>newsport</td>\n",
       "      <td>Marketplace</td>\n",
       "    </tr>\n",
       "    <tr>\n",
       "      <th>3</th>\n",
       "      <td>2216695</td>\n",
       "      <td>2024-12-30 16:38:33</td>\n",
       "      <td>2</td>\n",
       "      <td>211999.0</td>\n",
       "      <td>Visa</td>\n",
       "      <td>ready-for-handling</td>\n",
       "      <td>newsport</td>\n",
       "      <td>Marketplace</td>\n",
       "    </tr>\n",
       "    <tr>\n",
       "      <th>4</th>\n",
       "      <td>2216693</td>\n",
       "      <td>2024-12-30 16:37:38</td>\n",
       "      <td>2</td>\n",
       "      <td>363998.0</td>\n",
       "      <td>Naranja</td>\n",
       "      <td>ready-for-handling</td>\n",
       "      <td>newsport</td>\n",
       "      <td>Marketplace</td>\n",
       "    </tr>\n",
       "  </tbody>\n",
       "</table>\n",
       "</div>"
      ],
      "text/plain": [
       "  sequence         creationDate  totalItems  totalValue    paymentNames  \\\n",
       "0  2216701  2024-12-30 16:44:25           1     22409.1   Visa Electron   \n",
       "1  2216699  2024-12-30 16:42:18           1     95499.0        GOcuotas   \n",
       "2  2216697  2024-12-30 16:39:32           1    124999.0  MercadoPagoPro   \n",
       "3  2216695  2024-12-30 16:38:33           2    211999.0            Visa   \n",
       "4  2216693  2024-12-30 16:37:38           2    363998.0         Naranja   \n",
       "\n",
       "               status  hostname       origin  \n",
       "0    window-to-cancel  newsport  Marketplace  \n",
       "1    window-to-cancel    cero26  Marketplace  \n",
       "2    window-to-cancel  newsport  Marketplace  \n",
       "3  ready-for-handling  newsport  Marketplace  \n",
       "4  ready-for-handling  newsport  Marketplace  "
      ]
     },
     "execution_count": 68,
     "metadata": {},
     "output_type": "execute_result"
    }
   ],
   "source": [
    "import pandas as pd\n",
    "\n",
    "# SE ARMA DATA FRAME\n",
    "df = pd.DataFrame()\n",
    "\n",
    "# Procesar los datos de la respuesta\n",
    "if response.status_code == 200:\n",
    "    orders = response.json()[\"list\"]  # Extraemos la lista de órdenes\n",
    "\n",
    "    # Verificar si hay órdenes\n",
    "    if orders:\n",
    "        # Crear un DataFrame a partir de las órdenes\n",
    "        dfOrig = pd.DataFrame(orders)\n",
    "        \n",
    "        # Filtrar las columnas relevantes\n",
    "        df = dfOrig[[\"sequence\", \"creationDate\", \"totalItems\", \"totalValue\", \"paymentNames\", \"status\", \"hostname\", \"origin\"]]\n",
    "        \n",
    "        # Convertir la columna 'creationDate' a tipo datetime sin zona horaria\n",
    "        df.loc[:, \"creationDate\"] = pd.to_datetime(df[\"creationDate\"]).dt.strftime('%Y-%m-%d %H:%M:%S')  # Solo mostrar fecha y hora, sin la zona horaria\n",
    "        \n",
    "        # Convertir 'totalValue' de centavos a la moneda original (asumiendo que el valor está en centavos)\n",
    "        df.loc[:, \"totalValue\"] = df[\"totalValue\"] / 100\n",
    "        \n",
    "    else:\n",
    "        print(\"No se encontraron órdenes.\")\n",
    "else:\n",
    "    print(f\"Error al obtener datos: {response.status_code}\")\n",
    "    print(\"Detalles del error:\", response.text)\n",
    "    \n",
    "# Mostrar las primeras filas para verificar los datos\n",
    "df.head()"
   ]
  },
  {
   "cell_type": "code",
   "execution_count": 72,
   "metadata": {},
   "outputs": [],
   "source": [
    "df.to_csv(\"ventas.csv\", index=False)"
   ]
  }
 ],
 "metadata": {
  "kernelspec": {
   "display_name": "Python 3",
   "language": "python",
   "name": "python3"
  },
  "language_info": {
   "codemirror_mode": {
    "name": "ipython",
    "version": 3
   },
   "file_extension": ".py",
   "mimetype": "text/x-python",
   "name": "python",
   "nbconvert_exporter": "python",
   "pygments_lexer": "ipython3",
   "version": "3.12.4"
  }
 },
 "nbformat": 4,
 "nbformat_minor": 2
}
