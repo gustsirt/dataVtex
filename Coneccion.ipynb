{
 "cells": [
  {
   "cell_type": "markdown",
   "metadata": {},
   "source": [
    "### Configuración inicial"
   ]
  },
  {
   "cell_type": "code",
   "execution_count": 41,
   "metadata": {},
   "outputs": [],
   "source": [
    "# Librerias y Variables de enter\n",
    "\n",
    "# import sys\n",
    "# sys.path.append(r\"C:\\Users\\Usuario\\AppData\\Local\\Programs\\Python\\Python312\\Lib\\site-packages\")\n",
    "import requests # peticiones HTML\n",
    "import pandas as pd # manejo de datos\n",
    "import matplotlib.pyplot as plt # graficacion\n",
    "import pytz\n",
    "from datetime import datetime, timedelta\n",
    "\n",
    "# Variables de entorno\n",
    "import os\n",
    "from dotenv import load_dotenv\n",
    "\n",
    "# Cargar las variables desde el archivo .env\n",
    "load_dotenv()\n",
    "\n",
    "# Obtener las variables desde el entorno\n",
    "account_name = os.getenv(\"VTEX_ACCOUNT_NAME\")\n",
    "app_key = os.getenv(\"VTEX_APP_KEY\")\n",
    "app_token = os.getenv(\"VTEX_APP_TOKEN\")\n",
    "\n",
    "# Validar que las variables se cargaron correctamente\n",
    "if not all([account_name, app_key, app_token]):\n",
    "    raise ValueError(\"Faltan credenciales en el archivo .env\")"
   ]
  },
  {
   "cell_type": "code",
   "execution_count": 24,
   "metadata": {},
   "outputs": [],
   "source": [
    "# Configuración de la URL API y headers\n",
    "base_url = f\"https://{account_name}.vtexcommercestable.com.br/api/oms/pvt/orders\"\n",
    "headers = {\n",
    "    \"X-VTEX-API-AppKey\": app_key,\n",
    "    \"X-VTEX-API-AppToken\": app_token,\n",
    "    \"Content-Type\": \"application/json\",\n",
    "}"
   ]
  },
  {
   "cell_type": "markdown",
   "metadata": {},
   "source": [
    "### Llamadas API"
   ]
  },
  {
   "cell_type": "code",
   "execution_count": 42,
   "metadata": {},
   "outputs": [],
   "source": [
    "# FUNCION LLAMADA\n",
    "\n",
    "# Obtener la fecha de hoy en UTC\n",
    "today = datetime.now(pytz.utc).date()\n",
    "\n",
    "# Fecha para filtrar, usando el formato exacto que muestra el ejemplo de VTEX\n",
    "start_date = \"2024-12-30T00:00:00.000Z\"\n",
    "end_date = \"2024-12-30T23:59:59.999Z\"\n",
    "\n",
    "# Parámetros para filtrar órdenes - Se puede obtener de VTEX, compartiendo filtros\n",
    "params = {\n",
    "  'orderBy': 'sequence',\n",
    "    'f_creationDate': f'creationDate:[{start_date} TO {end_date}]',  # Filtro de fecha\n",
    "    \"page\": 1, # de 1 a 30\n",
    "    \"per_page\": 100, # de 1 a 100\n",
    "}\n",
    "\n",
    "# Función llamada a la API\n",
    "def get_orders():\n",
    "  orders = []\n",
    "  page = 1\n",
    "  while True:    \n",
    "    params['page'] = page\n",
    "    response = requests.get(base_url, headers=headers, params=params)\n",
    "    \n",
    "    # Verificar si la respuesta es válida\n",
    "    try:\n",
    "      data = response.json()\n",
    "    except ValueError as e:\n",
    "      print(f\"Error al procesar la respuesta JSON: {response.text}\")\n",
    "      break\n",
    "\n",
    "    # Asegurarse de que \"list\" exista en la respuesta\n",
    "    if \"list\" not in data:\n",
    "      print(f\"Error: 'list' no encontrado en la respuesta: {data}\")\n",
    "      break\n",
    "    \n",
    "    orders_list = data[\"list\"]\n",
    "    \n",
    "    if not orders_list:\n",
    "      break\n",
    "    \n",
    "    for order in orders_list:\n",
    "      order_data = {\n",
    "        'sequence': order.get('sequence', ''),\n",
    "        'creationDate': order.get('creationDate', ''),\n",
    "        'totalItems': order.get('totalItems', 0),\n",
    "        'totalValue': order.get('value', 0),\n",
    "        'paymentNames': ', '.join([payment.get('paymentSystem', '') for payment in order.get('payments', [])]),\n",
    "        'statusDescription': order.get('statusDescription', ''),\n",
    "        'hostname': order.get('hostname', ''),\n",
    "        'origin': order.get('origin', '')\n",
    "      }\n",
    "      orders.append(order_data)\n",
    "    \n",
    "    if not data:\n",
    "      break\n",
    "          \n",
    "    page += 1\n",
    "  return orders"
   ]
  },
  {
   "cell_type": "code",
   "execution_count": 43,
   "metadata": {},
   "outputs": [
    {
     "name": "stdout",
     "output_type": "stream",
     "text": [
      "Error: 'list' no encontrado en la respuesta: {'error': {'code': '1', 'message': 'Max page exceed ( 30 ), refine filter', 'exception': None}}\n",
      "Datos de pedidos guardados en 'pedidos_2024.csv'\n"
     ]
    }
   ],
   "source": [
    "# Obtener los pedidos\n",
    "orders = get_orders()\n",
    "\n",
    "# Convertir los pedidos a un DataFrame de pandas\n",
    "df_orders = pd.DataFrame(orders)\n",
    "\n",
    "# Guardar el DataFrame a un archivo CSV\n",
    "df_orders.to_csv('pedidos_2024.csv', index=False)\n",
    "\n",
    "print(\"Datos de pedidos guardados en 'pedidos_2024.csv'\")"
   ]
  },
  {
   "cell_type": "code",
   "execution_count": 27,
   "metadata": {},
   "outputs": [
    {
     "data": {
      "text/plain": [
       "<Response [400]>"
      ]
     },
     "execution_count": 27,
     "metadata": {},
     "output_type": "execute_result"
    }
   ],
   "source": [
    "# Realizar peticion\n",
    "\n",
    "\n",
    "response = requests.get(base_url, headers=headers, params=params)\n",
    "\n",
    "response"
   ]
  },
  {
   "cell_type": "code",
   "execution_count": 28,
   "metadata": {},
   "outputs": [],
   "source": [
    "# PARA IMPRIMIR TXT RESULTADO\n",
    "# ordersTxt = response.json()\n",
    "\n",
    "# Guardar la respuesta en un archivo .txt\n",
    "# with open(\"respuesta_ordenes.txt\", \"w\") as file:\n",
    "#    file.write(str(ordersTxt))  # Convertir el diccionario a una cadena de texto\n",
    "\n",
    "# Este código guardará la respuesta en un archivo llamado \"respuesta_ordenes.txt\""
   ]
  },
  {
   "cell_type": "code",
   "execution_count": 29,
   "metadata": {},
   "outputs": [
    {
     "name": "stdout",
     "output_type": "stream",
     "text": [
      "Error al obtener datos: 400\n",
      "Detalles del error: {\"error\":{\"code\":\"1\",\"message\":\"Max page exceed ( 30 ), refine filter\",\"exception\":null}}\n"
     ]
    },
    {
     "data": {
      "text/html": [
       "<div>\n",
       "<style scoped>\n",
       "    .dataframe tbody tr th:only-of-type {\n",
       "        vertical-align: middle;\n",
       "    }\n",
       "\n",
       "    .dataframe tbody tr th {\n",
       "        vertical-align: top;\n",
       "    }\n",
       "\n",
       "    .dataframe thead th {\n",
       "        text-align: right;\n",
       "    }\n",
       "</style>\n",
       "<table border=\"1\" class=\"dataframe\">\n",
       "  <thead>\n",
       "    <tr style=\"text-align: right;\">\n",
       "      <th></th>\n",
       "    </tr>\n",
       "  </thead>\n",
       "  <tbody>\n",
       "  </tbody>\n",
       "</table>\n",
       "</div>"
      ],
      "text/plain": [
       "Empty DataFrame\n",
       "Columns: []\n",
       "Index: []"
      ]
     },
     "execution_count": 29,
     "metadata": {},
     "output_type": "execute_result"
    }
   ],
   "source": [
    "# SE ARMA DATA FRAME\n",
    "df = pd.DataFrame()\n",
    "columnas = [\"sequence\", \"creationDate\", \"totalItems\", \"totalValue\", \"paymentNames\", \"status\", \"hostname\", \"origin\"]\n",
    "\n",
    "# Procesar los datos de la respuesta\n",
    "if response.status_code == 200:\n",
    "    orders = response.json()[\"list\"]  # Extraemos la lista de órdenes\n",
    "\n",
    "    # Verificar si hay órdenes\n",
    "    if orders:\n",
    "        # Crear un DataFrame a partir de las órdenes\n",
    "        dfOrig = pd.DataFrame(orders)\n",
    "        \n",
    "        # Filtrar las columnas relevantes\n",
    "        df = dfOrig[columnas]\n",
    "        \n",
    "        # Convertir la columna 'creationDate' a tipo datetime sin zona horaria\n",
    "        df.loc[:, \"creationDate\"] = pd.to_datetime(df[\"creationDate\"]).dt.strftime('%Y-%m-%d %H:%M:%S')  # Solo mostrar fecha y hora, sin la zona horaria\n",
    "        \n",
    "        # Convertir 'totalValue' de centavos a la moneda original (asumiendo que el valor está en centavos)\n",
    "        df.loc[:, \"totalValue\"] = df[\"totalValue\"] / 100\n",
    "        \n",
    "    else:\n",
    "        print(\"No se encontraron órdenes.\")\n",
    "else:\n",
    "    print(f\"Error al obtener datos: {response.status_code}\")\n",
    "    print(\"Detalles del error:\", response.text)\n",
    "    \n",
    "# Mostrar las primeras filas para verificar los datos\n",
    "df.head()"
   ]
  },
  {
   "cell_type": "code",
   "execution_count": 30,
   "metadata": {},
   "outputs": [],
   "source": [
    "# se exporta a CSV\n",
    "df.to_csv(\"ventas.csv\", index=False)"
   ]
  }
 ],
 "metadata": {
  "kernelspec": {
   "display_name": "Python 3",
   "language": "python",
   "name": "python3"
  },
  "language_info": {
   "codemirror_mode": {
    "name": "ipython",
    "version": 3
   },
   "file_extension": ".py",
   "mimetype": "text/x-python",
   "name": "python",
   "nbconvert_exporter": "python",
   "pygments_lexer": "ipython3",
   "version": "3.12.4"
  }
 },
 "nbformat": 4,
 "nbformat_minor": 2
}
